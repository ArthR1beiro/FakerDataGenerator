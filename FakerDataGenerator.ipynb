{
 "cells": [
  {
   "cell_type": "code",
   "execution_count": null,
   "id": "6818635e-7329-4ccc-982e-0d4d2c982ddf",
   "metadata": {},
   "outputs": [],
   "source": [
    "#Importando as Libs\n",
    "from faker import Faker\n",
    "import pandas as pd"
   ]
  },
  {
   "cell_type": "code",
   "execution_count": null,
   "id": "906c3278-5d7b-472a-b79a-47cd8e89427d",
   "metadata": {},
   "outputs": [],
   "source": [
    "fake = Faker('pt_BR')"
   ]
  },
  {
   "cell_type": "code",
   "execution_count": null,
   "id": "c08f36bd-5776-4a85-b756-c61b0c315c01",
   "metadata": {},
   "outputs": [],
   "source": [
    "#criado listas\n",
    "nome = []\n",
    "rg = []\n",
    "cpf = []\n",
    "email = []\n",
    "nasc = []\n",
    "endereco = []\n",
    "telefone = []\n",
    "profissao = []\n",
    "ip = []\n",
    "saldo = []\n",
    "cartao = []\n",
    "bandeira = []\n",
    "cvc = []\n",
    "exp = []\n",
    "placa = []"
   ]
  },
  {
   "cell_type": "code",
   "execution_count": null,
   "id": "8afc5c6d-31c3-4cd0-afde-ddf0da39a49b",
   "metadata": {},
   "outputs": [],
   "source": [
    "numdata = int(input(\"Quantidade de dados falsos de cada topico?\"))\n",
    "\n",
    "for _ in range(numdata):\n",
    "    nome.append(fake.name())\n",
    "    rg.append(fake.rg())\n",
    "    cpf.append(fake.cpf())\n",
    "    email.append(fake.ascii_free_email())\n",
    "    nasc.append(fake.date('%d/%m/%Y'))\n",
    "    endereco.append(fake.address())\n",
    "    telefone.append(fake.msisdn())\n",
    "    profissao.append(fake.job())\n",
    "    ip.append(fake.ipv4())\n",
    "    saldo.append(fake.pricetag())\n",
    "    cartao.append(fake.credit_card_number())\n",
    "    bandeira.append(fake.credit_card_provider())\n",
    "    cvc.append(fake.credit_card_security_code())\n",
    "    exp.append(fake.credit_card_expire())\n",
    "    placa.append(fake.license_plate())\n",
    "    \n"
   ]
  },
  {
   "cell_type": "code",
   "execution_count": null,
   "id": "9981f39d-b92f-41fc-9119-81aa3d86fe4e",
   "metadata": {},
   "outputs": [],
   "source": [
    "dadosGerados = pd.DataFrame({'Nomes':nome,\n",
    "                             'RG':rg,\n",
    "                             'CPF':cpf,\n",
    "                             'E-mail':email,\n",
    "                             'Data de Nascimento':nasc,\n",
    "                             'Endereço':endereco,\n",
    "                             'Telefone':telefone,\n",
    "                             'Profissão':profissao,\n",
    "                             'IP':ip,\n",
    "                             'Saldo da Conta':saldo,\n",
    "                             'Cartão de Credito':cartao,\n",
    "                             'Bandeira do Cartão':bandeira,\n",
    "                             'CVC':cvc,\n",
    "                             'Data de Expiração':exp,\n",
    "                             'Placa do Veiculo':placa,})"
   ]
  },
  {
   "cell_type": "code",
   "execution_count": null,
   "id": "ee4de8ae-3b92-498d-a795-65b64ea81ba0",
   "metadata": {},
   "outputs": [],
   "source": [
    "display(dadosGerados)"
   ]
  },
  {
   "cell_type": "markdown",
   "id": "0bfd718c-52c8-4666-be5a-f2ec7a4b4ac2",
   "metadata": {},
   "source": [
    "## Exportando Conujunto de Dados"
   ]
  },
  {
   "cell_type": "code",
   "execution_count": null,
   "id": "352bc8f7-d847-48a8-ae91-36a3bbfcc928",
   "metadata": {},
   "outputs": [],
   "source": [
    "dadosGerados.to_csv('Dados.csv')"
   ]
  },
  {
   "cell_type": "code",
   "execution_count": null,
   "id": "395f5447-099b-4fad-96db-9599f5841772",
   "metadata": {},
   "outputs": [],
   "source": [
    "dadosGerados.to_excel('Dados.xlsx')"
   ]
  },
  {
   "cell_type": "code",
   "execution_count": null,
   "id": "04f51042-009c-42f0-807c-3e327723a547",
   "metadata": {},
   "outputs": [],
   "source": [
    "dadosGerados.to_html('Dados.html')"
   ]
  }
 ],
 "metadata": {
  "interpreter": {
   "hash": "a077222d77dfe082b8f1dd562ad70e458ac2ab76993a0b248ab0476e32e9e8dd"
  },
  "kernelspec": {
   "display_name": "Python 3 (ipykernel)",
   "language": "python",
   "name": "python3"
  },
  "language_info": {
   "codemirror_mode": {
    "name": "ipython",
    "version": 3
   },
   "file_extension": ".py",
   "mimetype": "text/x-python",
   "name": "python",
   "nbconvert_exporter": "python",
   "pygments_lexer": "ipython3",
   "version": "3.9.7"
  }
 },
 "nbformat": 4,
 "nbformat_minor": 5
}
